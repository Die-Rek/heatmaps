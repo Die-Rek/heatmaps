{
 "cells": [
  {
   "cell_type": "code",
   "execution_count": 3,
   "metadata": {},
   "outputs": [
    {
     "data": {
      "text/plain": [
       "array([[[496.182  ,  87.77047]]], dtype=float32)"
      ]
     },
     "execution_count": 3,
     "metadata": {},
     "output_type": "execute_result"
    }
   ],
   "source": [
    "import cv2 # import the OpenCV library\n",
    "import numpy as np # import the numpy library\n",
    "\n",
    "# provide points from image 1\n",
    "pts_src = np.array([[154, 174], [702, 349], [702, 572],[1, 572], [1, 191]])\n",
    "# corresponding points from image 2 (i.e. (154, 174) matches (212, 80))\n",
    "pts_dst = np.array([[212, 80],[489, 80],[505, 180],[367, 235], [144,153]])\n",
    "\n",
    "# calculate matrix H\n",
    "h, status = cv2.findHomography(pts_src, pts_dst)\n",
    "\n",
    "# provide a point you wish to map from image 1 to image 2\n",
    "a = np.array([[702, 349]], dtype='float32')\n",
    "a = np.array([a])\n",
    "\n",
    "# finally, get the mapping\n",
    "pointsOut = cv2.perspectiveTransform(a, h)\n",
    "pointsOut"
   ]
  }
 ],
 "metadata": {
  "kernelspec": {
   "display_name": "Python 3",
   "language": "python",
   "name": "python3"
  },
  "language_info": {
   "codemirror_mode": {
    "name": "ipython",
    "version": 3
   },
   "file_extension": ".py",
   "mimetype": "text/x-python",
   "name": "python",
   "nbconvert_exporter": "python",
   "pygments_lexer": "ipython3",
   "version": "3.10.11"
  }
 },
 "nbformat": 4,
 "nbformat_minor": 2
}
