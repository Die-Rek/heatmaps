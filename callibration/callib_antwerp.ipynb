{
 "cells": [
  {
   "cell_type": "code",
   "execution_count": null,
   "metadata": {},
   "outputs": [],
   "source": [
    "import cv2\n",
    "\n",
    "image = cv2.imread(\"../groundplan/Nike antwerpen.png\")\n",
    "\n",
    "bigger = cv2.resize(image, (800, 2000), interpolation = cv2.INTER_LINEAR)\n",
    "cv2.imwrite(\"../groundplan/Nike_antwerpen_enlarged.png\", image)"
   ]
  },
  {
   "cell_type": "markdown",
   "metadata": {},
   "source": [
    "# Camera 1 callibration"
   ]
  },
  {
   "cell_type": "code",
   "execution_count": null,
   "metadata": {},
   "outputs": [],
   "source": [
    "import cv2 # import the OpenCV library\n",
    "import numpy as np # import the numpy library\n",
    "\n",
    "# provide points from image 1\n",
    "pts_src = np.array([[792, 372], [226, 612], [1151, 539],  [679, 318],\n",
    "                    #  [146, 135], [1994, 539]\n",
    "                    # [913, 806]\n",
    "                    ])\n",
    "# corresponding points from image 2 (i.e. (154, 174) matches (212, 80))\n",
    "pts_dst = np.array([[150, 425],[146, 678],[270, 423], [69,425],\n",
    "                    #  [406, 747], [1918, 35]\n",
    "                    # [27, 223]\n",
    "                    ])\n",
    "\n",
    "# calculate matrix H\n",
    "h1, status1 = cv2.findHomography(pts_src, pts_dst)\n",
    "\n",
    "# provide a point you wish to map from image 1 to image 2\n",
    "a = np.array([[588, 112]], dtype='float32')\n",
    "a = np.array([a])\n",
    "\n",
    "# finally, get the mapping\n",
    "pointsOut = cv2.perspectiveTransform(a, h1)\n",
    "pointsOut"
   ]
  },
  {
   "cell_type": "markdown",
   "metadata": {},
   "source": [
    "# Camera 2 callibration"
   ]
  },
  {
   "cell_type": "code",
   "execution_count": null,
   "metadata": {},
   "outputs": [],
   "source": [
    "import cv2 # import the OpenCV library\n",
    "import numpy as np # import the numpy library\n",
    "\n",
    "# provide points from image 1\n",
    "pts_src = np.array([[813, 353], [1142, 510], [401, 215],  [978, 182], [156, 231], [287, 164]\n",
    "                    # [913, 806]\n",
    "                    ])\n",
    "# corresponding points from image 2 (i.e. (154, 174) matches (212, 80))\n",
    "pts_dst = np.array([[301, 685],[146, 678],[582, 687], [299,892], [805, 578], [800, 699]\n",
    "                    # [27, 223]\n",
    "                    ])\n",
    "\n",
    "# calculate matrix H\n",
    "h2, status1 = cv2.findHomography(pts_src, pts_dst)\n",
    "\n",
    "# provide a point you wish to map from image 1 to image 2\n",
    "a = np.array([[588, 112]], dtype='float32')\n",
    "a = np.array([a])\n",
    "\n",
    "# finally, get the mapping\n",
    "pointsOut = cv2.perspectiveTransform(a, h2)\n",
    "pointsOut"
   ]
  },
  {
   "cell_type": "markdown",
   "metadata": {},
   "source": [
    "# Camera 3 callibration"
   ]
  },
  {
   "cell_type": "code",
   "execution_count": null,
   "metadata": {},
   "outputs": [],
   "source": [
    "import cv2 # import the OpenCV library\n",
    "import numpy as np # import the numpy library\n",
    "\n",
    "# provide points from image 1\n",
    "pts_src = np.array([[458, 457], [815, 209], [891, 569],  [347, 401],\n",
    "                    #  [146, 135], [1994, 539]\n",
    "                    # [913, 806]\n",
    "                    ])\n",
    "# corresponding points from image 2 (i.e. (154, 174) matches (212, 80))\n",
    "pts_dst = np.array([[143, 727],[150, 425],[300, 700], [83,729],\n",
    "                    #  [406, 747], [1918, 35]\n",
    "                    # [27, 223]\n",
    "                    ])\n",
    "\n",
    "# calculate matrix H\n",
    "h3, status1 = cv2.findHomography(pts_src, pts_dst)\n",
    "\n",
    "# provide a point you wish to map from image 1 to image 2\n",
    "a = np.array([[588, 112]], dtype='float32')\n",
    "a = np.array([a])\n",
    "\n",
    "# finally, get the mapping\n",
    "pointsOut = cv2.perspectiveTransform(a, h3)\n",
    "pointsOut"
   ]
  },
  {
   "cell_type": "markdown",
   "metadata": {},
   "source": [
    "# Camera 4 callibration"
   ]
  },
  {
   "cell_type": "code",
   "execution_count": null,
   "metadata": {},
   "outputs": [],
   "source": [
    "import cv2 # import the OpenCV library\n",
    "import numpy as np # import the numpy library\n",
    "\n",
    "# provide points from image 1\n",
    "pts_src = np.array([[248, 223], [434, 209], [266, 467],  [923, 477], [535, 74], \n",
    "                    # [1994, 539]\n",
    "                    # [913, 806]\n",
    "                    ])\n",
    "# corresponding points from image 2 (i.e. (154, 174) matches (212, 80))\n",
    "pts_dst = np.array([[804, 576],[800, 700],[584, 699], [583,910], [1087, 970],\n",
    "                    #  [1918, 35]\n",
    "                    # [27, 223]\n",
    "                    ])\n",
    "\n",
    "# calculate matrix H\n",
    "h4, status1 = cv2.findHomography(pts_src, pts_dst)\n",
    "\n",
    "# provide a point you wish to map from image 1 to image 2\n",
    "a = np.array([[588, 112]], dtype='float32')\n",
    "a = np.array([a])\n",
    "\n",
    "# finally, get the mapping\n",
    "pointsOut = cv2.perspectiveTransform(a, h4)\n",
    "pointsOut"
   ]
  },
  {
   "cell_type": "markdown",
   "metadata": {},
   "source": [
    "# Camera 5 callibration"
   ]
  },
  {
   "cell_type": "code",
   "execution_count": null,
   "metadata": {},
   "outputs": [],
   "source": [
    "import cv2 # import the OpenCV library\n",
    "import numpy as np # import the numpy library\n",
    "\n",
    "# provide points from image 1\n",
    "pts_src = np.array([[1770, 172], [2265, 259], [1343, 1292],  [2044, 976], [535, 74], \n",
    "                    # [1994, 539]\n",
    "                    # [913, 806]\n",
    "                    ])\n",
    "# corresponding points from image 2 (i.e. (154, 174) matches (212, 80))\n",
    "pts_dst = np.array([[801, 579],[799, 686],[634, 482], [661,571], [1087, 970],\n",
    "                    #  [1918, 35]\n",
    "                    # [27, 223]\n",
    "                    ])\n",
    "\n",
    "# calculate matrix H\n",
    "h5, status1 = cv2.findHomography(pts_src, pts_dst)\n",
    "\n",
    "# provide a point you wish to map from image 1 to image 2\n",
    "a = np.array([[588, 112]], dtype='float32')\n",
    "a = np.array([a])\n",
    "\n",
    "# finally, get the mapping\n",
    "pointsOut = cv2.perspectiveTransform(a, h5)\n",
    "pointsOut"
   ]
  },
  {
   "cell_type": "markdown",
   "metadata": {},
   "source": [
    "# Camera 6 en 7 overbodig?\n",
    "\n"
   ]
  },
  {
   "cell_type": "markdown",
   "metadata": {},
   "source": [
    "# Camera 8 callibration"
   ]
  },
  {
   "cell_type": "code",
   "execution_count": null,
   "metadata": {},
   "outputs": [],
   "source": [
    "import cv2 # import the OpenCV library\n",
    "import numpy as np # import the numpy library\n",
    "\n",
    "# provide points from image 1\n",
    "pts_src = np.array([[982, 766], [1272, 277], [1611, 765],  [1328, 200], [775, 481], [748, 244], [1497, 14],\n",
    "                    # [1994, 539]\n",
    "                    # [913, 806]\n",
    "                    ])\n",
    "# corresponding points from image 2 (i.e. (154, 174) matches (212, 80))\n",
    "pts_dst = np.array([[1086, 698],[1414, 694],[1099, 817], [1529,699], [1257, 567], [1529, 415], [2193, 734],\n",
    "                    #  [1918, 35]\n",
    "                    # [27, 223]\n",
    "                    ])\n",
    "\n",
    "# calculate matrix H\n",
    "h8, status1 = cv2.findHomography(pts_src, pts_dst)\n",
    "\n",
    "# provide a point you wish to map from image 1 to image 2\n",
    "a = np.array([[588, 112]], dtype='float32')\n",
    "a = np.array([a])\n",
    "\n",
    "# finally, get the mapping\n",
    "pointsOut = cv2.perspectiveTransform(a, h8)\n",
    "pointsOut"
   ]
  },
  {
   "cell_type": "markdown",
   "metadata": {},
   "source": [
    "# Camera 9 callibration"
   ]
  },
  {
   "cell_type": "code",
   "execution_count": null,
   "metadata": {},
   "outputs": [],
   "source": [
    "import cv2 # import the OpenCV library\n",
    "import numpy as np # import the numpy library\n",
    "\n",
    "# provide points from image 1\n",
    "pts_src = np.array([[1621, 109], [1291, 1052], [600, 989],  [409, 698],\n",
    "                    # [1994, 539]\n",
    "                    # [913, 806]\n",
    "                    ])\n",
    "# corresponding points from image 2 (i.e. (154, 174) matches (212, 80))\n",
    "pts_dst = np.array([[584, 685],[1102, 685],[1112, 800], [1040, 904],\n",
    "                    #  [1918, 35]\n",
    "                    # [27, 223]\n",
    "                    ])\n",
    "\n",
    "# calculate matrix H\n",
    "h9, status1 = cv2.findHomography(pts_src, pts_dst)\n",
    "\n",
    "# provide a point you wish to map from image 1 to image 2\n",
    "a = np.array([[588, 112]], dtype='float32')\n",
    "a = np.array([a])\n",
    "\n",
    "# finally, get the mapping\n",
    "pointsOut = cv2.perspectiveTransform(a, h9)\n",
    "pointsOut"
   ]
  },
  {
   "cell_type": "markdown",
   "metadata": {},
   "source": [
    "# Camera 10 callibration"
   ]
  },
  {
   "cell_type": "code",
   "execution_count": 1,
   "metadata": {},
   "outputs": [
    {
     "data": {
      "text/plain": [
       "array([[[1741.2793,  367.1124]]], dtype=float32)"
      ]
     },
     "execution_count": 1,
     "metadata": {},
     "output_type": "execute_result"
    }
   ],
   "source": [
    "import cv2 # import the OpenCV library\n",
    "import numpy as np # import the numpy library\n",
    "\n",
    "# provide points from image 1\n",
    "pts_src = np.array([[1801, 713], [1023, 873], [714, 1390],  [1302, 118], [2116, 251],  [386, 761],\n",
    "                    # [1994, 539]\n",
    "                    # [913, 806]\n",
    "                    ])\n",
    "# corresponding points from image 2 (i.e. (154, 174) matches (212, 80))\n",
    "pts_dst = np.array([[1586, 809],[1529, 685],[1425, 695], [1966, 534], [1776, 860],  [1542, 430],\n",
    "                    #  [1918, 35]\n",
    "                    # [27, 223]\n",
    "                    ])\n",
    "\n",
    "# calculate matrix H\n",
    "h10, status1 = cv2.findHomography(pts_src, pts_dst)\n",
    "\n",
    "# provide a point you wish to map from image 1 to image 2\n",
    "a = np.array([[708, 408]], dtype='float32')\n",
    "a = np.array([a])\n",
    "\n",
    "# finally, get the mapping\n",
    "pointsOut = cv2.perspectiveTransform(a, h10)\n",
    "pointsOut"
   ]
  },
  {
   "cell_type": "markdown",
   "metadata": {},
   "source": [
    "# Camera 11 callibration"
   ]
  },
  {
   "cell_type": "code",
   "execution_count": 2,
   "metadata": {},
   "outputs": [
    {
     "data": {
      "text/plain": [
       "array([[[1868.1427 ,  659.43555]]], dtype=float32)"
      ]
     },
     "execution_count": 2,
     "metadata": {},
     "output_type": "execute_result"
    }
   ],
   "source": [
    "import cv2 # import the OpenCV library\n",
    "import numpy as np # import the numpy library\n",
    "\n",
    "# provide points from image 1\n",
    "pts_src = np.array([[2348, 764], [1852, 996], [323, 40],  [1139, 24], [2202, 338],  \n",
    "                    # [1994, 539]\n",
    "                    # [913, 806]\n",
    "                    ])\n",
    "# corresponding points from image 2 (i.e. (154, 174) matches (212, 80))\n",
    "pts_dst = np.array([[1584, 808],[1529, 685],[2049, 150], [1966, 534], [1776, 860], \n",
    "                    #  [1918, 35]\n",
    "                    # [27, 223]\n",
    "                    ])\n",
    "\n",
    "# calculate matrix H\n",
    "h11, status1 = cv2.findHomography(pts_src, pts_dst)\n",
    "\n",
    "# provide a point you wish to map from image 1 to image 2\n",
    "a = np.array([[1500, 170]], dtype='float32')\n",
    "a = np.array([a])\n",
    "\n",
    "# finally, get the mapping\n",
    "pointsOut = cv2.perspectiveTransform(a, h11)\n",
    "pointsOut"
   ]
  },
  {
   "cell_type": "markdown",
   "metadata": {},
   "source": [
    "# Camera 12 callibration"
   ]
  },
  {
   "cell_type": "code",
   "execution_count": 4,
   "metadata": {},
   "outputs": [
    {
     "data": {
      "text/plain": [
       "array([[[1312.7802 ,  391.25662]]], dtype=float32)"
      ]
     },
     "execution_count": 4,
     "metadata": {},
     "output_type": "execute_result"
    }
   ],
   "source": [
    "import cv2 # import the OpenCV library\n",
    "import numpy as np # import the numpy library\n",
    "\n",
    "# provide points from image 1\n",
    "pts_src = np.array([[1203, 531], [737, 405], [781, 219],  [568, 181], [443, 983],  [1409, 745],[2132, 1300]\n",
    "                    # [1994, 539]\n",
    "                    # [913, 806]\n",
    "                    ])\n",
    "# corresponding points from image 2 (i.e. (154, 174) matches (212, 80))\n",
    "pts_dst = np.array([[1257, 568],[1305, 686],[1235, 819], [1289, 900], [1418, 526], [1267, 504],[ 1270, 357]\n",
    "                    #  [1918, 35]\n",
    "                    # [27, 223]\n",
    "                    ])\n",
    "\n",
    "# calculate matrix H\n",
    "h12, status1 = cv2.findHomography(pts_src, pts_dst)\n",
    "\n",
    "# provide a point you wish to map from image 1 to image 2\n",
    "a = np.array([[1700, 1300]], dtype='float32')\n",
    "a = np.array([a])\n",
    "\n",
    "# finally, get the mapping\n",
    "pointsOut = cv2.perspectiveTransform(a, h12)\n",
    "pointsOut"
   ]
  },
  {
   "cell_type": "markdown",
   "metadata": {},
   "source": [
    "# Camera 13 callibration"
   ]
  },
  {
   "cell_type": "code",
   "execution_count": 6,
   "metadata": {},
   "outputs": [
    {
     "data": {
      "text/plain": [
       "array([[[1502.3668,  298.5468]]], dtype=float32)"
      ]
     },
     "execution_count": 6,
     "metadata": {},
     "output_type": "execute_result"
    }
   ],
   "source": [
    "import cv2 # import the OpenCV library\n",
    "import numpy as np # import the numpy library\n",
    "\n",
    "# provide points from image 1\n",
    "pts_src = np.array([[1477, 627], [1113, 427], [2446, 1036],  [327, 1405], [1835, 873]\n",
    "                    # [1994, 539]\n",
    "                    # [913, 806]\n",
    "                    ])\n",
    "# corresponding points from image 2 (i.e. (154, 174) matches (212, 80))\n",
    "pts_dst = np.array([[1597, 255],[1627, 191],[1521, 416], [1436, 110], [1555, 304]\n",
    "                    #  [1918, 35]\n",
    "                    # [27, 223]\n",
    "                    ])\n",
    "\n",
    "# calculate matrix H\n",
    "h13, status1 = cv2.findHomography(pts_src, pts_dst)\n",
    "\n",
    "# provide a point you wish to map from image 1 to image 2\n",
    "a = np.array([[1750, 1100]], dtype='float32')\n",
    "a = np.array([a])\n",
    "\n",
    "# finally, get the mapping\n",
    "pointsOut = cv2.perspectiveTransform(a, h13)\n",
    "pointsOut"
   ]
  },
  {
   "cell_type": "markdown",
   "metadata": {},
   "source": [
    "# Camera 14 callibration"
   ]
  },
  {
   "cell_type": "code",
   "execution_count": 10,
   "metadata": {},
   "outputs": [
    {
     "data": {
      "text/plain": [
       "array([[[2174.5374,  652.5441]]], dtype=float32)"
      ]
     },
     "execution_count": 10,
     "metadata": {},
     "output_type": "execute_result"
    }
   ],
   "source": [
    "import cv2 # import the OpenCV library\n",
    "import numpy as np # import the numpy library\n",
    "\n",
    "# provide points from image 1\n",
    "pts_src = np.array([[1454, 943], [1120, 251], [40, 545],  [990, 881], [754, 1263],[719, 557], [2462, 779]\n",
    "                    # [1994, 539]\n",
    "                    # [913, 806]\n",
    "                    ])\n",
    "# corresponding points from image 2 (i.e. (154, 174) matches (212, 80))\n",
    "pts_dst = np.array([[2046, 577],[2047, 148],[1603, 280], [1966, 535], [1913, 631], [1892, 378], [2321, 605]\n",
    "                    #  [1918, 35]\n",
    "                    # [27, 223]\n",
    "                    ])\n",
    "\n",
    "# calculate matrix H\n",
    "h13, status1 = cv2.findHomography(pts_src, pts_dst)\n",
    "\n",
    "# provide a point you wish to map from image 1 to image 2\n",
    "a = np.array([[2100, 1100]], dtype='float32')\n",
    "a = np.array([a])\n",
    "\n",
    "# finally, get the mapping\n",
    "pointsOut = cv2.perspectiveTransform(a, h13)\n",
    "pointsOut"
   ]
  },
  {
   "cell_type": "markdown",
   "metadata": {},
   "source": [
    "# Camera 15 missing"
   ]
  },
  {
   "cell_type": "markdown",
   "metadata": {},
   "source": [
    "# Camera 16 callibration"
   ]
  },
  {
   "cell_type": "code",
   "execution_count": 14,
   "metadata": {},
   "outputs": [
    {
     "data": {
      "text/plain": [
       "array([[[1641.8363 ,  849.09216]]], dtype=float32)"
      ]
     },
     "execution_count": 14,
     "metadata": {},
     "output_type": "execute_result"
    }
   ],
   "source": [
    "import cv2 # import the OpenCV library\n",
    "import numpy as np # import the numpy library\n",
    "\n",
    "# provide points from image 1\n",
    "pts_src = np.array([[934, 1104], [2146, 504], [2356, 705],  [2063, 1341], [1614, 495],[772, 1280], [2241, 429], [2242, 1603], [700, 1900]\n",
    "                    # [1994, 539]\n",
    "                    # [913, 806]\n",
    "                    ])\n",
    "# corresponding points from image 2 (i.e. (154, 174) matches (212, 80))\n",
    "pts_dst = np.array([[2145, 744],[1553, 696],[1708, 511], [2081, 543], [1776, 853], [2191, 731], [1302, 694], [2090, 447], [2300, 617]\n",
    "                    #  [1918, 35]\n",
    "                    # [27, 223]\n",
    "                    ])\n",
    "\n",
    "# calculate matrix H\n",
    "h13, status1 = cv2.findHomography(pts_src, pts_dst)\n",
    "\n",
    "# provide a point you wish to map from image 1 to image 2\n",
    "a = np.array([[1800, 450]], dtype='float32')\n",
    "a = np.array([a])\n",
    "\n",
    "# finally, get the mapping\n",
    "pointsOut = cv2.perspectiveTransform(a, h13)\n",
    "pointsOut"
   ]
  },
  {
   "cell_type": "markdown",
   "metadata": {},
   "source": [
    "# Camera 17 callibration"
   ]
  },
  {
   "cell_type": "code",
   "execution_count": null,
   "metadata": {},
   "outputs": [],
   "source": [
    "import cv2 # import the OpenCV library\n",
    "import numpy as np # import the numpy library\n",
    "\n",
    "# provide points from image 1\n",
    "pts_src = np.array([[1034, 576], [714, 626], [821, 1262],  [1279, 1164], \n",
    "                    # [1994, 539]\n",
    "                    # [913, 806]\n",
    "                    ])\n",
    "# corresponding points from image 2 (i.e. (154, 174) matches (212, 80))\n",
    "pts_dst = np.array([[1900, 162],[1878, 107],[1758, 143], [1772, 201], \n",
    "                    #  [1918, 35]\n",
    "                    # [27, 223]\n",
    "                    ])\n",
    "\n",
    "# calculate matrix H\n",
    "h13, status1 = cv2.findHomography(pts_src, pts_dst)\n",
    "\n",
    "# provide a point you wish to map from image 1 to image 2\n",
    "a = np.array([[1800, 450]], dtype='float32')\n",
    "a = np.array([a])\n",
    "\n",
    "# finally, get the mapping\n",
    "pointsOut = cv2.perspectiveTransform(a, h13)\n",
    "pointsOut"
   ]
  },
  {
   "cell_type": "markdown",
   "metadata": {},
   "source": [
    "# Camera 18 callibration"
   ]
  },
  {
   "cell_type": "code",
   "execution_count": null,
   "metadata": {},
   "outputs": [],
   "source": [
    "import cv2 # import the OpenCV library\n",
    "import numpy as np # import the numpy library\n",
    "\n",
    "# provide points from image 1\n",
    "pts_src = np.array([[1473, 436], [1722, 448], [1350, 995],  [1734, 989], [1733,705]\n",
    "                    # [1994, 539]\n",
    "                    # [913, 806]\n",
    "                    ])\n",
    "# corresponding points from image 2 (i.e. (154, 174) matches (212, 80))\n",
    "pts_dst = np.array([[2771, 747],[2703, 760],[2697, 554], [2640, 584], [2662, 647]\n",
    "                    #  [1918, 35]\n",
    "                    # [27, 223]\n",
    "                    ])\n",
    "\n",
    "# calculate matrix H\n",
    "h13, status1 = cv2.findHomography(pts_src, pts_dst)\n",
    "\n",
    "# provide a point you wish to map from image 1 to image 2\n",
    "a = np.array([[1800, 450]], dtype='float32')\n",
    "a = np.array([a])\n",
    "\n",
    "# finally, get the mapping\n",
    "pointsOut = cv2.perspectiveTransform(a, h13)\n",
    "pointsOut"
   ]
  },
  {
   "cell_type": "markdown",
   "metadata": {},
   "source": [
    "# Camera 19 callibration"
   ]
  },
  {
   "cell_type": "code",
   "execution_count": null,
   "metadata": {},
   "outputs": [],
   "source": [
    "import cv2 # import the OpenCV library\n",
    "import numpy as np # import the numpy library\n",
    "\n",
    "# provide points from image 1\n",
    "pts_src = np.array([[513, 1930], [218, 428], [2303, 465],  [2440, 960], \n",
    "                    # [1994, 539]\n",
    "                    # [913, 806]\n",
    "                    ])\n",
    "# corresponding points from image 2 (i.e. (154, 174) matches (212, 80))\n",
    "pts_dst = np.array([[2718, 214],[3364, 164],[2843, 678], [2688, 468], \n",
    "                    #  [1918, 35]\n",
    "                    # [27, 223]\n",
    "                    ])\n",
    "\n",
    "# calculate matrix H\n",
    "h13, status1 = cv2.findHomography(pts_src, pts_dst)\n",
    "\n",
    "# provide a point you wish to map from image 1 to image 2\n",
    "a = np.array([[1800, 450]], dtype='float32')\n",
    "a = np.array([a])\n",
    "\n",
    "# finally, get the mapping\n",
    "pointsOut = cv2.perspectiveTransform(a, h13)\n",
    "pointsOut"
   ]
  },
  {
   "cell_type": "markdown",
   "metadata": {},
   "source": [
    "# Camera 20 callibration"
   ]
  },
  {
   "cell_type": "code",
   "execution_count": null,
   "metadata": {},
   "outputs": [],
   "source": [
    "import cv2 # import the OpenCV library\n",
    "import numpy as np # import the numpy library\n",
    "\n",
    "# provide points from image 1\n",
    "pts_src = np.array([[1093, 1362], [721, 942], [1516, 1102],  [317, 1053], \n",
    "                    # [1994, 539]\n",
    "                    # [913, 806]\n",
    "                    ])\n",
    "# corresponding points from image 2 (i.e. (154, 174) matches (212, 80))\n",
    "pts_dst = np.array([[2692, 216],[2666, 144],[2718, 210], [2587, 141], \n",
    "                    #  [1918, 35]\n",
    "                    # [27, 223]\n",
    "                    ])\n",
    "\n",
    "# calculate matrix H\n",
    "h13, status1 = cv2.findHomography(pts_src, pts_dst)\n",
    "\n",
    "# provide a point you wish to map from image 1 to image 2\n",
    "a = np.array([[1800, 450]], dtype='float32')\n",
    "a = np.array([a])\n",
    "\n",
    "# finally, get the mapping\n",
    "pointsOut = cv2.perspectiveTransform(a, h13)\n",
    "pointsOut"
   ]
  },
  {
   "cell_type": "markdown",
   "metadata": {},
   "source": [
    "# Camera 21 callibration"
   ]
  },
  {
   "cell_type": "code",
   "execution_count": null,
   "metadata": {},
   "outputs": [],
   "source": [
    "import cv2 # import the OpenCV library\n",
    "import numpy as np # import the numpy library\n",
    "\n",
    "# provide points from image 1\n",
    "pts_src = np.array([[1693, 492], [2196, 295], [867, 463],  [754, 291], [2094, 343], [316, 1411]\n",
    "                    # [1994, 539]\n",
    "                    # [913, 806]\n",
    "                    ])\n",
    "# corresponding points from image 2 (i.e. (154, 174) matches (212, 80))\n",
    "pts_dst = np.array([[3087, 340],[2690, 469],[3251, 414], [3260, 580], [2843, 407], [3347, 183]\n",
    "                    #  [1918, 35]\n",
    "                    # [27, 223]\n",
    "                    ])\n",
    "\n",
    "# calculate matrix H\n",
    "h13, status1 = cv2.findHomography(pts_src, pts_dst)\n",
    "\n",
    "# provide a point you wish to map from image 1 to image 2\n",
    "a = np.array([[1800, 450]], dtype='float32')\n",
    "a = np.array([a])\n",
    "\n",
    "# finally, get the mapping\n",
    "pointsOut = cv2.perspectiveTransform(a, h13)\n",
    "pointsOut"
   ]
  },
  {
   "cell_type": "markdown",
   "metadata": {},
   "source": [
    "# Camera 22 callibration"
   ]
  },
  {
   "cell_type": "code",
   "execution_count": null,
   "metadata": {},
   "outputs": [],
   "source": [
    "import cv2 # import the OpenCV library\n",
    "import numpy as np # import the numpy library\n",
    "\n",
    "# provide points from image 1\n",
    "pts_src = np.array([[270, 1354], [1594, 419], [2297, 583],  [1737, 860], [1590,1592]\n",
    "                    # [1994, 539]\n",
    "                    # [913, 806]\n",
    "                    ])\n",
    "# corresponding points from image 2 (i.e. (154, 174) matches (212, 80))\n",
    "pts_dst = np.array([[3393, 758],[2956, 538],[3087, 350], [3268, 588], [3423, 630]\n",
    "                    #  [1918, 35]\n",
    "                    # [27, 223]\n",
    "                    ])\n",
    "\n",
    "# calculate matrix H\n",
    "h13, status1 = cv2.findHomography(pts_src, pts_dst)\n",
    "\n",
    "# provide a point you wish to map from image 1 to image 2\n",
    "a = np.array([[1800, 450]], dtype='float32')\n",
    "a = np.array([a])\n",
    "\n",
    "# finally, get the mapping\n",
    "pointsOut = cv2.perspectiveTransform(a, h13)\n",
    "pointsOut"
   ]
  },
  {
   "cell_type": "markdown",
   "metadata": {},
   "source": [
    "# Camera 23 callibration"
   ]
  },
  {
   "cell_type": "code",
   "execution_count": null,
   "metadata": {},
   "outputs": [],
   "source": [
    "import cv2 # import the OpenCV library\n",
    "import numpy as np # import the numpy library\n",
    "\n",
    "# provide points from image 1\n",
    "pts_src = np.array([[619, 463], [416, 570], [948, 254],  [1372, 564], [265,1279]\n",
    "                    # [1994, 539]\n",
    "                    # [913, 806]\n",
    "                    ])\n",
    "# corresponding points from image 2 (i.e. (154, 174) matches (212, 80))\n",
    "pts_dst = np.array([[3053, 520],[2958, 537],[3249, 428], [3094, 679], [2845,693]\n",
    "                    #  [1918, 35]\n",
    "                    # [27, 223]\n",
    "                    ])\n",
    "\n",
    "# calculate matrix H\n",
    "h13, status1 = cv2.findHomography(pts_src, pts_dst)\n",
    "\n",
    "# provide a point you wish to map from image 1 to image 2\n",
    "a = np.array([[1800, 450]], dtype='float32')\n",
    "a = np.array([a])\n",
    "\n",
    "# finally, get the mapping\n",
    "pointsOut = cv2.perspectiveTransform(a, h13)\n",
    "pointsOut"
   ]
  }
 ],
 "metadata": {
  "kernelspec": {
   "display_name": "Python 3",
   "language": "python",
   "name": "python3"
  },
  "language_info": {
   "codemirror_mode": {
    "name": "ipython",
    "version": 3
   },
   "file_extension": ".py",
   "mimetype": "text/x-python",
   "name": "python",
   "nbconvert_exporter": "python",
   "pygments_lexer": "ipython3",
   "version": "3.10.11"
  }
 },
 "nbformat": 4,
 "nbformat_minor": 2
}
